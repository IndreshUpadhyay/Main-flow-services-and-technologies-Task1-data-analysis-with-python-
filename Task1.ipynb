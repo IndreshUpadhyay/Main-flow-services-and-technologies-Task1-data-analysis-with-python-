{
  "nbformat": 4,
  "nbformat_minor": 0,
  "metadata": {
    "colab": {
      "provenance": [],
      "authorship_tag": "ABX9TyP2V1GoYX7rHU1dReD7KbxI",
      "include_colab_link": true
    },
    "kernelspec": {
      "name": "python3",
      "display_name": "Python 3"
    },
    "language_info": {
      "name": "python"
    }
  },
  "cells": [
    {
      "cell_type": "markdown",
      "metadata": {
        "id": "view-in-github",
        "colab_type": "text"
      },
      "source": [
        "<a href=\"https://colab.research.google.com/github/IndreshUpadhyay/Main-flow-services-and-technologies-Task1-data-analysis-with-python-/blob/main/Task1.ipynb\" target=\"_parent\"><img src=\"https://colab.research.google.com/assets/colab-badge.svg\" alt=\"Open In Colab\"/></a>"
      ]
    },
    {
      "cell_type": "code",
      "execution_count": 1,
      "metadata": {
        "id": "nc27lWUP8xxn",
        "outputId": "011ec1b6-3647-4806-e066-2d6878049d25",
        "colab": {
          "base_uri": "https://localhost:8080/"
        }
      },
      "outputs": [
        {
          "output_type": "stream",
          "name": "stdout",
          "text": [
            "Lists:\n",
            "Initial List: [1, 2, 10, 14, 8]\n",
            "After adding 20: [1, 2, 10, 14, 8, 20]\n",
            "After removing 1: [2, 10, 14, 8, 20]\n",
            "After modifying first element: [18, 10, 14, 8, 20]\n",
            "\n",
            " Dictionaries:\n",
            "Initial Dictionary: {'name': 'Indresh', 'age': 22, 'city': 'Noida'}\n",
            "After adding country: {'name': 'Indresh', 'age': 22, 'city': 'Noida', 'country': 'India'}\n",
            "After adding 6: {1, 2, 3, 4, 5, 10}\n",
            "After removing 4: {2, 3, 4, 5, 10}\n",
            "Union: {4, 5, 6, 7, 8, 9, 10}\n",
            "Intersection: {8, 6, 7}\n",
            "Difference: {4, 5}\n"
          ]
        }
      ],
      "source": [
        "# Lists\n",
        "print(\"Lists:\")\n",
        "my_list = [1, 2, 10, 14, 8]\n",
        "print(\"Initial List:\", my_list)\n",
        "\n",
        "# Add element\n",
        "my_list.append(20)\n",
        "print(\"After adding 20:\", my_list)\n",
        "\n",
        "# Remove element\n",
        "my_list.remove(1)\n",
        "print(\"After removing 1:\", my_list)\n",
        "\n",
        "# Modify element\n",
        "my_list[0] = 18\n",
        "print(\"After modifying first element:\", my_list)\n",
        "\n",
        "# Dictionaries\n",
        "print(\"\\n Dictionaries:\")\n",
        "my_dict = {\"name\": \"Indresh\", \"age\": 22, \"city\": \"Noida\"}\n",
        "print(\"Initial Dictionary:\", my_dict)\n",
        "\n",
        "# Add key-value pair\n",
        "my_dict[\"country\"] = \"India\"\n",
        "print(\"After adding country:\", my_dict)\n",
        "\n",
        "# Initail Set\n",
        "initial_set={1,2,3,4,5}\n",
        "\n",
        "# After adding 6\n",
        "initial_set.add(10)\n",
        "print(\"After adding 6:\", initial_set)\n",
        "\n",
        "# Remove Element\n",
        "initial_set.remove(1)\n",
        "print(\"After removing 4:\", initial_set)\n",
        "\n",
        "# Union, intersection, and difference\n",
        "my_set = {4, 5, 6, 7, 8}\n",
        "set2 = {6, 7, 8, 9, 10}  # Define set2\n",
        "\n",
        "print(\"Union:\", my_set.union(set2))\n",
        "print(\"Intersection:\", my_set.intersection(set2))\n",
        "print(\"Difference:\", my_set.difference(set2))"
      ]
    }
  ]
}